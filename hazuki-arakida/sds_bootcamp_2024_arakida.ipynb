{
  "cells": [
    {
      "cell_type": "markdown",
      "metadata": {
        "id": "WHnCpoL9nMjq"
      },
      "source": [
        "<a href=\"https://colab.research.google.com/github/pacificspatial/Spatial_Data_Science_Bootcamp_Tokyo_2024/blob/main/hazuki-arakida/sds_bootcamp_2024_arakida.ipynb\" target=\"_parent\"><img src=\"https://colab.research.google.com/assets/colab-badge.svg\" alt=\"Open In Colab\"/></a>\n",
        "\n",
        "# **可視化クリニック（ハンズオン）**\n",
        "Pacific Spatial Solutions 株式会社 荒木田葉月 2024/06/07</br>\n",
        "</br>\n",
        "\n",
        "## **はじめに**\n",
        "今回のSpatial Data Science Bootcampの可視化クリニックのセクションでは、地理空間情報データを地図として可視化する際に気を付けるべきポイントや、2次元の地図と3次元の地図の表現方法の違いについて学びます。2次元の地図の描画には、Pythonのleafmapというライブラリを使用します。また3次元の地図の描画には、表現方法が豊かでかつ、高速で地図を描画することができるdeck.glというライブラリについてご紹介した後、deck.glをPythonで使用するためのライブラリ、pydeckの使用方法について学びます。</br>\n",
        "</br>\n",
        "\n",
        "## **１．可視化のポイント</br>**\n",
        "地理空間情報を可視化する際にはどんな点に気を付けたらよいでしょう。まずはPythonライブラリ、leafmapを使用してデータを2次元の地図として表示してみましょう。</br>\n",
        "</br>\n",
        "【参考】leafmap: https://leafmap.org/</br>\n",
        "</br>\n",
        "### **leafmapを使用して、2次元の地図を描画する**"
      ]
    },
    {
      "cell_type": "code",
      "execution_count": null,
      "metadata": {
        "id": "FlKT8qoG-kSZ"
      },
      "outputs": [],
      "source": [
        "##### leafmapライブラリをインストール\n",
        "!pip install leafmap"
      ]
    },
    {
      "cell_type": "code",
      "execution_count": null,
      "metadata": {
        "id": "ntiY77gW_9A3"
      },
      "outputs": [],
      "source": [
        "##### ライブラリを読み込む\n",
        "import leafmap #leafmap: データ可視化ライブラリ\n",
        "import pandas as pd #pandas: データ解析ライブラリ"
      ]
    },
    {
      "cell_type": "code",
      "execution_count": null,
      "metadata": {
        "id": "gRuB5qIVAQ66"
      },
      "outputs": [],
      "source": [
        "##### データを読み込んで地図に表示する\n",
        "### データの読み込み\n",
        "# データのURLを設定\n",
        "KOKSEI_CHOUSA = (\"https://bootcamp24.s3.ap-northeast-1.amazonaws.com/setaisu_tokyo.csv\")"
      ]
    },
    {
      "cell_type": "markdown",
      "metadata": {
        "id": "tYjihZs-DY7Y"
      },
      "source": [
        "まずはどのようなデータか、確認してみましょう。"
      ]
    },
    {
      "cell_type": "code",
      "execution_count": null,
      "metadata": {
        "id": "CFOS0eZ3DaPq"
      },
      "outputs": [],
      "source": [
        "# データを確認\n",
        "df = pd.read_csv(KOKSEI_CHOUSA)\n",
        "df"
      ]
    },
    {
      "cell_type": "markdown",
      "metadata": {
        "id": "0-CWuO8eUXBH"
      },
      "source": [
        "このデータは国勢調査のデータです。緯度経度の他、人口、世帯数などのデータが入っていることが分かります。\n",
        "次に、緯度経度を地図上に表示してみます。\n",
        "</br>\n",
        "</br>\n",
        "**leafmapで２次元の地図に描画してみましょう。**"
      ]
    },
    {
      "cell_type": "code",
      "execution_count": null,
      "metadata": {
        "id": "QddiBHFehGbK"
      },
      "outputs": [],
      "source": [
        "### 各種パラメータの設定\n",
        "# 地図の初期表示状態を設定（表示範囲の中心点・ズームの設定）\n",
        "m1 = leafmap.Map(center=(35.704166,139.48125), zoom=10)\n",
        "\n",
        "# データをレイヤとして追加\n",
        "m1.add_xy_data(\n",
        "    KOKSEI_CHOUSA, #データ(URL)\n",
        "    x=\"lng\",       #経度\n",
        "    y=\"lat\",       #緯度\n",
        "    layer_name=\"国勢調査\", #レイヤ名\n",
        "    label=\"Jinkou_Sousu\"   #アイコンのラベルに使用するデータ\n",
        ")\n",
        "\n",
        "### 地図の表示\n",
        "m1"
      ]
    },
    {
      "cell_type": "markdown",
      "metadata": {
        "id": "zR4XMnGrjCYZ"
      },
      "source": [
        ">出典：2020年国勢調査3次メッシュ（政府統計の総合窓口(e-Stat [https://www.e-stat.go.jp/](https://www.e-stat.go.jp/)） を使用し、Pacific Spatial Solutions 株式会社が作成・加工したもの</br>\n",
        "\n",
        "\n",
        "上の地図を見ると東京都のデータであることが分かります。地図を拡大したい位置にカーソルを持っていき、タッチパッド上で指二本を下に向かって動かしてみてください。拡大していくと、アイコンが規則正しく並んで表示されているのが分かります。国勢調査のデータは1km四方のメッシュデータとして整備されており、上で表示しているデータは各メッシュの中心点のデータです。各アイコンをクリックすると、地点ごとに人口総数のデータが表示されます。しかし、アイコンが並んでいるだけの状態では何を表しているか分かりません。</br>\n",
        "では、地図を縮小（タッチパッド上で指二本を上に向かって動かす）していくとどのように表示が変わるでしょうか。点の表示方法がアイコンから色付きの円に変わり、縮小するたびに円の周辺の点の数が合計値として集計しなおされているのが分かります。しかし、可視化したいのは点の数ではなく、1点1点に紐づけられている国勢調査の人口等のデータです。</br>\n",
        "</br>\n",
        "**各地点の人口データを、円の大きさとして可視化してみましょう。**"
      ]
    },
    {
      "cell_type": "code",
      "execution_count": null,
      "metadata": {
        "id": "x34pWkyoA8I5"
      },
      "outputs": [],
      "source": [
        "# 地図の表示位置とズームの設定\n",
        "m2 = leafmap.Map(center=(35.704166,139.48125), zoom=10)\n",
        "\n",
        "# 円の大きさを決めるパラメータを追加(人口総数の数に応じた大きさにする)\n",
        "df[\"circle_size\"]=df[\"Jinkou_Sousu\"]/3000\n",
        "\n",
        "# 人口総数のレイヤを設定する\n",
        "for i, item in df.iterrows():\n",
        "    m2.add_circle_markers_from_xy(\n",
        "        df.iloc[[i]],\n",
        "        x=\"lng\",\n",
        "        y=\"lat\",\n",
        "        radius=int(item[\"circle_size\"]) #円の大きさ指定\n",
        "    )\n",
        "\n",
        "# 地図の表示\n",
        "m2"
      ]
    },
    {
      "cell_type": "markdown",
      "metadata": {
        "id": "BlsCMC_cCoO6"
      },
      "source": [
        ">出典：2020年国勢調査3次メッシュ（政府統計の総合窓口(e-Stat [https://www.e-stat.go.jp/](https://www.e-stat.go.jp/)） を使用し、Pacific Spatial Solutions 株式会社が作成・加工したもの</br>\n",
        "\n",
        "上の地図を拡大してみると、人口が多いところほど大きな円で表示されており、国勢調査のデータが持つ意味が伝わる地図になりました。しかしながら、縮尺によっては円と円が重なり合い、正確に人口の分布状況が分からないのが少し残念です。</br>\n",
        "</br>\n",
        "**各地点の人口データを、同じ大きさの円で色分けして可視化してみましょう。**"
      ]
    },
    {
      "cell_type": "code",
      "execution_count": null,
      "metadata": {
        "id": "i6O2XH4M3KOS"
      },
      "outputs": [],
      "source": [
        "# 色を設定するライブラリを追加\n",
        "import branca.colormap as cm\n",
        "\n",
        "# 地図の表示位置とズームの設定\n",
        "m3 = leafmap.Map(center=(35.704166,139.48125), zoom=10)\n",
        "\n",
        "# 配色を決めるパラメータを追加(人口総数に応じたグラデーションにする)\n",
        "linear = cm.LinearColormap([\"black\", \"pink\", \"green\"], vmin=df[\"Jinkou_Sousu\"].min(), vmax=df[\"Jinkou_Sousu\"].max())\n",
        "\n",
        "# 人口総数のレイヤを設定する\n",
        "for i, item in df.iterrows():\n",
        "    m3.add_circle_markers_from_xy(\n",
        "        df.iloc[[i]],\n",
        "        x=\"lng\",\n",
        "        y=\"lat\",\n",
        "        radius=3,                         #円の大きさは固定値\n",
        "        color = linear(item.Jinkou_Sousu) #配色を指定(黒->ピンク->緑)\n",
        "    )\n",
        "\n",
        "# 地図の表示\n",
        "m3"
      ]
    },
    {
      "cell_type": "markdown",
      "metadata": {
        "id": "V9bZ1VXwOUnm"
      },
      "source": [
        ">出典：2020年国勢調査3次メッシュ（政府統計の総合窓口(e-Stat [https://www.e-stat.go.jp/](https://www.e-stat.go.jp/)） を使用し、Pacific Spatial Solutions 株式会社が作成・加工したもの</br>\n",
        "\n",
        "上の地図では、同じ大きさの円を使って、色の違いで人口分布をグラデーションで表現しています。円と円が重ならなくなったため、人口の分布状況がより分かりやすくなりました。しかしながら、使用している色が黒、ピンク、緑という組み合わせであり、直感的に人口の分布状況が分かりにくいのが残念です。もう少し色を工夫してみましょう。</br>\n",
        "</br>\n",
        "色の設定は下記が参考になります。</br>\n",
        "【参考】CARTOCOLORS (Data-driven color schemes): https://carto.com/carto-colors/</br>\n",
        "</br>\n",
        "**各地点の人口データを、同じ大きさの円で、かつ直感的に分かりやすいグラデーションの色で可視化してみましょう。**"
      ]
    },
    {
      "cell_type": "code",
      "execution_count": null,
      "metadata": {
        "id": "6r_288u-Oz7i"
      },
      "outputs": [],
      "source": [
        "# 地図の表示位置とズームの設定\n",
        "m4 = leafmap.Map(center=(35.704166,139.48125), zoom=10)\n",
        "\n",
        "# 配色を決めるパラメータを追加(人口総数に応じたグラデーションにする)\n",
        "linear = cm.LinearColormap([\"yellow\", \"orange\", \"red\"], vmin=df[\"Jinkou_Sousu\"].min(), vmax=df[\"Jinkou_Sousu\"].max())\n",
        "\n",
        "# 人口総数のレイヤを設定する\n",
        "for i, item in df.iterrows():\n",
        "    m4.add_circle_markers_from_xy(\n",
        "        df.iloc[[i]],\n",
        "        x=\"lng\",\n",
        "        y=\"lat\",\n",
        "        radius=3,                         #円の大きさは固定値\n",
        "        color = linear(item.Jinkou_Sousu) #配色を指定(黄色->オレンジ->赤)\n",
        "    )\n",
        "\n",
        "# 地図の表示\n",
        "m4"
      ]
    },
    {
      "cell_type": "markdown",
      "metadata": {
        "id": "5hKrJPgKQGNY"
      },
      "source": [
        ">出典：2020年国勢調査3次メッシュ（政府統計の総合窓口(e-Stat [https://www.e-stat.go.jp/](https://www.e-stat.go.jp/)） を使用し、Pacific Spatial Solutions 株式会社が作成・加工したもの</br>\n",
        "\n",
        "\n",
        "着色を工夫すると、人口が多い場所がより直感的に分かりやすくなりました。</br>\n",
        "</br>\n",
        "### **可視化のポイントまとめ**</br>\n",
        "**①データがもつ意味を正しく伝えられているか**</br>\n",
        "例えばポイントデータ（点データ）の場合は、地図上の「点の密度」を表したいのか、「点ごとのデータの属性値」を表示したいのかを考える必要があります。</br>\n",
        "**②データの特徴がとらえやすい表示方法になっているか**</br>\n",
        "点の大きさや着色を工夫することで地域的な分布の特徴がより直感的にとらえやすくなります。</br>\n",
        "</br>\n"
      ]
    },
    {
      "cell_type": "markdown",
      "metadata": {
        "id": "rJ-vtlGu5QAy"
      },
      "source": [
        "# **２．pydeckを使ってみよう**</br>\n",
        "ここまでは、2次元の地図を使ったデータの可視化について学びました。次に、3次元の地図を使ったデータの可視化について、deck.glのPython用ライブラリ、pydeckを操作しながら学びます。</br>\n",
        "</br>\n",
        "[deck.gl](https://deck.gl/)は大規模なデータの可視化を行うためにUberが開発した可視化ツール群、[vis.gl](https://vis.gl/)の一つです。deck.glを用いれば、2次元のみならず、3次元の地図を、様々な描画表現で高速に描画することが可能です。deck.glで作成された地図の例は下記リンク先で確認することができます。</br>\n",
        "</br>\n",
        "\n",
        "【参考】deck.glによる地図の描画例: [https://deck.gl/examples](https://deck.gl/examples)</br>\n",
        "</br>\n",
        "\n",
        "deck.glを用いれば様々なアプリケーションを開発することができますが、開発言語がJavaScriptやTypeScriptであるため、データサイエンティストをはじめとするPythonユーザが使用するには少々、ハードルが高いかもしれません。deck.glをPythonで使用するためのライブラリである[pydeck](https://deckgl.readthedocs.io/en/latest/#) を使用すれば、deck.glと同様、様々な表現方法で3次元の地図を描画することができます。</br>\n",
        "</br>\n",
        "\n",
        "【参考】pydeckによる地図の描画例: [https://deckgl.readthedocs.io/en/latest/#](https://deckgl.readthedocs.io/en/latest/#)</br>\n",
        "</br>\n",
        "\n",
        "\n",
        "そこでこの演習ノートでは、pydeckの使い方について学習します。データを読み込み、表示方法をパラメータで設定し、htmlファイルとして書き出すまでの一連の流れを演習を通して学びます。pyedeckはJupyter Notebookでの利用に最適化されています。Google Colaboratory はJupyter Notebookのオンライン版であり、簡単に環境構築できるため今回はこちらを使用します。</br>\n",
        "</br>\n",
        "また、そもそもスクリプトを書くことができないという方や、数百万レコードといった大規模なデータを扱っているため、pydeckでは対応が難しいという方向けに、deck.glをベースに開発されたpydeck以外のライブラリについても最後に少しご紹介します。</br>\n",
        "</br>\n",
        "### **pydeckの基本的な操作は下記の通りです。** </br>\n",
        "①環境設定（ライブラリのインストールと読み込み） </br>\n",
        "②データの読み込み </br>\n",
        "③各種パラメータの設定（Layer、ViewState、Deck） </br>\n",
        "④htmlへのエクスポートと地図の表示 </br>\n",
        "</br>\n",
        "### **様々な地図の可視化方法を演習を通して学びます。**</br>\n",
        "**まずは環境設定を行います。**\n"
      ]
    },
    {
      "cell_type": "code",
      "execution_count": null,
      "metadata": {
        "collapsed": true,
        "id": "mYLpMi4_nNOZ"
      },
      "outputs": [],
      "source": [
        "##### 【環境設定】pydeckライブラリをインストール\n",
        "!pip install pydeck"
      ]
    },
    {
      "cell_type": "code",
      "execution_count": null,
      "metadata": {
        "id": "veN73INew8ty"
      },
      "outputs": [],
      "source": [
        "##### 【環境設定】各種ライブラリを読み込む\n",
        "import pydeck as pdk     #pydec: データ可視化ライブラリ\n",
        "import pandas as pd      #pandas: データ解析ライブラリ\n",
        "import geopandas as gpd  #geopandas: 空間データ解析ライブラリ"
      ]
    },
    {
      "cell_type": "markdown",
      "metadata": {
        "id": "jqZVsvJIPlRb"
      },
      "source": [
        "### **表示例①ポイントデータを使用した密度分布の表示-HexagonLayer</br>**\n",
        "**データを読み込みます。**"
      ]
    },
    {
      "cell_type": "code",
      "execution_count": null,
      "metadata": {
        "id": "7kbzJVgVxM1d"
      },
      "outputs": [],
      "source": [
        "##### データの読み込み\n",
        "# データのURLを設定\n",
        "JP_KYOJYU_DATA = (\"https://bootcamp24.s3.ap-northeast-1.amazonaws.com/biodic_kyojyukyoboku_p.csv\")\n",
        "\n",
        "# geopandasでファイルを読み込む\n",
        "df = pd.read_csv(JP_KYOJYU_DATA)\n",
        "\n",
        "# 読み込んだデータを確認\n",
        "df"
      ]
    },
    {
      "cell_type": "markdown",
      "metadata": {
        "id": "cGVxKX8-LMUJ"
      },
      "source": [
        "可視化を行う前に、まずはデータの構造や、データが持つ地理的な特徴を確認します。上に表示しているテーブルを確認すると、約37000レコードのデータがあることや、木の1本1本の樹種、幹の太さ（外周の長さ）、樹高のデータであることが分かります。地理的な特徴を理解するために、簡単にプロットしてみます。"
      ]
    },
    {
      "cell_type": "code",
      "execution_count": null,
      "metadata": {
        "id": "-YF_L143u2Jb"
      },
      "outputs": [],
      "source": [
        "# 緯度経度をプロット(散布図)\n",
        "df.plot.scatter(x=\"lng\", y=\"lat\")"
      ]
    },
    {
      "cell_type": "markdown",
      "metadata": {
        "id": "gmryK-OoM1ls"
      },
      "source": [
        "全国分のデータがあることが分かります。しかし点が重なっていてどのような状態で点が分布しているのかが良く分かりません。表示するエリアを狭くしてみます。"
      ]
    },
    {
      "cell_type": "code",
      "execution_count": null,
      "metadata": {
        "id": "n3yVO7OGNBBm"
      },
      "outputs": [],
      "source": [
        "# 緯度経度の範囲を狭めてもう一度プロットしてみる\n",
        "df_partial = df.query(\"139.5 <= lng < 140.0 and 35.5 <= lat < 36.0\")\n",
        "df_partial.plot.scatter(x=\"lng\", y=\"lat\")"
      ]
    },
    {
      "cell_type": "markdown",
      "metadata": {
        "id": "Q2nz5vBnKHOO"
      },
      "source": [
        "点の分布状況が分かりやすくなりました。このデータは、国勢調査のデータとは異なり、点が不規則に分布していることが分かります。このデータは「巨樹・巨木」が生えている地点がプロットされているデータで、規則的なメッシュで整備されているデータではありません。可視化の方向性としては、木の高さなどの属性値を可視化する方向性と、巨樹・巨木の生えている位置の特徴を可視化する方向性の2通りが考えられます。今回は後者について着目し、単位面積あたりの木の密度を3次元の地図で可視化してみます。"
      ]
    },
    {
      "cell_type": "markdown",
      "metadata": {
        "id": "CK6Nfbyg22t7"
      },
      "source": [
        "**レイヤを設定します。**</br>\n",
        "読み込んだデータを「レイヤ」として設定し、レイヤの表示方法を設定します。</br>\n",
        "レイヤの表示形式を\"HexagonLayer\"に設定します。"
      ]
    },
    {
      "cell_type": "code",
      "execution_count": null,
      "metadata": {
        "id": "0g4gpYB0xSh9"
      },
      "outputs": [],
      "source": [
        "##### 各種パラメータの設定\n",
        "# Layer(レイヤ)の設定\n",
        "layer1 = pdk.Layer(\n",
        "    \"HexagonLayer\",              #レイヤの表示形式\n",
        "    JP_KYOJYU_DATA,              #データ(URL)\n",
        "    get_position=[\"lng\",\"lat\"],  #緯度経度\n",
        "    auto_highlight=True,\n",
        "    elevation_scale=10,          #高さの強調　元のパラメータ:10\n",
        "    pickable=True,\n",
        "    elevation_range=[0, 3000],\n",
        "    extruded=True,\n",
        "    coverage=1,\n",
        ")"
      ]
    },
    {
      "cell_type": "markdown",
      "metadata": {
        "id": "HcA-iMl8Y0Gu"
      },
      "source": [
        "**地図の表示状態を設定します。**"
      ]
    },
    {
      "cell_type": "code",
      "execution_count": null,
      "metadata": {
        "id": "JDwYUk3cxZ-Y"
      },
      "outputs": [],
      "source": [
        "# ViewState(地図の表示状態)の設定\n",
        "view_state1 = pdk.ViewState(\n",
        "    longitude=139.721,    #初期表示範囲の中心点経度　元のパラメータ:139.721\n",
        "    latitude=35.699,      #初期表示範囲の中心点緯度　元のパラメータ:35.699\n",
        "    zoom=4,               #ズームレベルの初期設定　元のパラメータ:4\n",
        "    min_zoom=3,           #ズームアウトしたときのズームレベルの限界値　元のパラメータ:3\n",
        "    max_zoom=15,          #ズームインしたときのズームレベルの限界値　元のパラメータ:15\n",
        "    pitch=70.5,           #地図の傾き　元のパラメータ:70.5\n",
        "    bearing=0             #地図の回転　元のパラメータ:0\n",
        ")"
      ]
    },
    {
      "cell_type": "markdown",
      "metadata": {
        "id": "gn_msCdSZBuK"
      },
      "source": [
        "**レイヤと地図の表示状態を一つに統合します。**"
      ]
    },
    {
      "cell_type": "code",
      "execution_count": null,
      "metadata": {
        "id": "csiVASfRvrm7"
      },
      "outputs": [],
      "source": [
        "# Deck(パラメータの統合)の設定\n",
        "r1 = pdk.Deck(layers=[layer1], initial_view_state=view_state1)"
      ]
    },
    {
      "cell_type": "markdown",
      "source": [
        "**地図を描画します**</br>"
      ],
      "metadata": {
        "id": "nRXqg8vtC8-T"
      }
    },
    {
      "cell_type": "code",
      "execution_count": null,
      "metadata": {
        "id": "CrG6Sua3xfg_"
      },
      "outputs": [],
      "source": [
        "##### htmlへのエクスポートと地図の表示\n",
        "r1.to_html(\"hexagon_layer.html\")"
      ]
    },
    {
      "cell_type": "markdown",
      "metadata": {
        "id": "AqRGiZkFTRN9"
      },
      "source": [
        ">出典：巨樹・巨木林調査(第6回) の全国分のGISデータ (環境省生物多様性センター: [http://gis.biodic.go.jp/webgis/index.html](http://gis.biodic.go.jp/webgis/index.html) ) を使用し、\n",
        "Pacific Spatial Solutions 株式会社が作成・加工したもの</br>\n",
        "\n",
        "**上の地図を動かしてみましょう。**</br>\n",
        "・ズームイン・ズームアウト: スクロール(指二本で上下に動かす)</br>\n",
        "・移動: 上下左右にドラッグ</br>\n",
        "・回転：CTRL + 上下左右にドラッグ</br>\n",
        "\n",
        "**地図を拡大してみましょう。**</br>\n",
        "木の密度が六角形の範囲ごとに集計されており、六角柱の高さが高いほど、また色が黄色から赤に近づくほど木の密度が高いことを表しています。</br>\n",
        "\n",
        "**高さを強調してみましょう。**</br>\n",
        "4つ前のスクリプトに遡って、「# Layer(レイヤ)の設定」でelevation_scaleを10から100に変更し、再度、4つ前のスクリプト以下のスクリプトを順に実行してみましょう。木の高さを変えて地図を再設定しため、上の地図で六角柱の高さがより強調されて、どこに大きな木が沢山生えているかがより分かりやすくなります。</br>\n",
        "</br>\n",
        "\n",
        "### **続いて、表示例②～➄ではpydeckで表示できる様々な地図を見てみましょう。**"
      ]
    },
    {
      "cell_type": "markdown",
      "metadata": {
        "id": "rPpSYN9nsByr"
      },
      "source": [
        "### **【表示例②ポイントデータを使用したメッシュ集計-ScreenGridLayer】**\n",
        "レイヤの表示形式を\"ScreenGridLayer\"に設定します。\n"
      ]
    },
    {
      "cell_type": "code",
      "execution_count": null,
      "metadata": {
        "id": "NwaMUh8uJZCr"
      },
      "outputs": [],
      "source": [
        "##### データの読み込み\n",
        "# データのURLを設定\n",
        "JP_KOKUSEI_CHOUSA = (\"https://bootcamp24.s3.ap-northeast-1.amazonaws.com/setaisu.csv\")\n",
        "\n",
        "##### 各種パラメータの設定\n",
        "# Layer(レイヤ)の設定\n",
        "layer2 = pdk.Layer(\n",
        "    \"ScreenGridLayer\",   #レイヤの表示形式\n",
        "    JP_KOKUSEI_CHOUSA,   #データ(URL)\n",
        "    pickable=False,\n",
        "    opacity=0.8,\n",
        "    cell_size_pixels=30, #集計するセルサイズ\n",
        "    color_range=[        #グラデーションの指定\n",
        "        [0, 25, 0, 25],\n",
        "        [0, 85, 0, 85],\n",
        "        [0, 127, 0, 127],\n",
        "        [0, 170, 0, 170],\n",
        "        [0, 190, 0, 190],\n",
        "        [0, 255, 0, 255],\n",
        "    ],\n",
        "    get_position=[\"lng\", \"lat\"], #緯度経度\n",
        "    get_weight=\"Jinkou_Sousu\",   #表示するデータ（Jinkou_Sousu: 人口総数, Setai_Sousu: 世帯総数, Ippan_Setaisuu: 一般世帯数）\n",
        ")\n",
        "\n",
        "# ViewState(地図の表示状態)の設定\n",
        "view_state2 = pdk.ViewState(\n",
        "    longitude=138.2077,\n",
        "    latitude=36.3667,\n",
        "    zoom=4,\n",
        "    min_zoom=3,\n",
        "    max_zoom=15,\n",
        "    pitch=70.5,\n",
        "    bearing=1)\n",
        "\n",
        "# Deck(パラメータの統合)の設定\n",
        "r2 = pdk.Deck(layers=[layer2], initial_view_state=view_state2)\n",
        "\n",
        "##### htmlへのエクスポートと地図の表示\n",
        "r2.to_html(\"screengrid_layer.html\")"
      ]
    },
    {
      "cell_type": "markdown",
      "metadata": {
        "id": "bJ4CFOJvgySe"
      },
      "source": [
        ">出典：2020年国勢調査3次メッシュ（政府統計の総合窓口(e-Stat https://www.e-stat.go.jp/） を使用し、Pacific Spatial Solutions 株式会社が作成・加工したもの</br>\n",
        "\n",
        "上の地図で描画しているデータは、国勢調査の人口総数のデータです。最初の演習でleafmapの描画に使用したデータと同じデータですが、データの範囲は東京都ではなく、日本全国のデータです。東京都周辺のエリアを拡大して表示してみましょう。leafmapで表示した地図では、円の大きさや着色は地図を拡大・縮小しても変わりませんでしたが、pydeckのScreenGridLayerで表示した地図では、地図を拡大・縮小すると四角のメッシュの範囲内の人口データが縮尺に応じて集計しなおされ、着色も変化しているのが分かります。このように、pydeckでは2次元の地図描画であっても、より高度な描画表現が可能です。"
      ]
    },
    {
      "cell_type": "markdown",
      "metadata": {
        "id": "qICvvBRgu167"
      },
      "source": [
        "### **【表示例③地形タイル-TerrainLayer】**</br>\n",
        "レイヤの表示形式を\"TerrainLayer\"に設定し、地形データを\"elevation_data\"、地理院タイルの色別標高図を\"texture\"として設定します。"
      ]
    },
    {
      "cell_type": "code",
      "execution_count": null,
      "metadata": {
        "id": "qYeu99xpLx-T"
      },
      "outputs": [],
      "source": [
        "### データの読み込み\n",
        "# TerrainタイルデータのURLを設定\n",
        "TERRAIN_IMAGE = \"https://s3.amazonaws.com/elevation-tiles-prod/terrarium/{z}/{x}/{y}.png\" # 出典： AWS Open Data Terrain Tiles\n",
        "# Terrainタイルの表示方法を設定\n",
        "ELEVATION_DECODER = {\"rScaler\": 256, \"gScaler\": 1, \"bScaler\": 1 / 256, \"offset\": -32768}\n",
        "\n",
        "# 地理院タイルデータのURLを設定\n",
        "SURFACE_IMAGE = \"https://cyberjapandata.gsi.go.jp/xyz/relief/{z}/{x}/{y}.png\" #出典：国土地理院 地理院タイル 色別標高図\n",
        "\n",
        "### 各種パラメータの設定\n",
        "# Layer(レイヤ)の設定\n",
        "terrain_layer = pdk.Layer(\n",
        "    \"TerrainLayer\",                     #レイヤの種類\n",
        "    elevation_decoder=ELEVATION_DECODER,\n",
        "    elevation_data=TERRAIN_IMAGE,       #地形データ\n",
        "    texture=SURFACE_IMAGE               #テクスチャ\n",
        ")\n",
        "\n",
        "# ViewState(地図の表示状態)の設定\n",
        "view_state3 = pdk.ViewState(\n",
        "    longitude=138.727363,\n",
        "    latitude=35.360625,\n",
        "    zoom=4,\n",
        "    min_zoom=10,\n",
        "    max_zoom=18,\n",
        "    pitch=70.5,\n",
        "    bearing=1)\n",
        "\n",
        "# Deck(パラメータの統合)の設定\n",
        "r3 = pdk.Deck(terrain_layer, initial_view_state=view_state3)\n",
        "\n",
        "### htmlへのエクスポートと地図の表示\n",
        "r3.to_html(\"terrain_layer.html\")"
      ]
    },
    {
      "cell_type": "markdown",
      "metadata": {
        "id": "3m5p8fVSg9gi"
      },
      "source": [
        ">出典①：Terrain Tiles was accessed from [https://registry.opendata.aws/terrain-tiles](https://registry.opendata.aws/terrain-tiles)</br>\n",
        ">出典②：国土地理院 地理院タイル 色別標高図: [https://maps.gsi.go.jp/development/ichiran.html](https://maps.gsi.go.jp/development/ichiran.html)</br>\n",
        "\n",
        "上で表示しているデータは、AWSの地形データの上に国土地理院の色別標高図のデータを重ね合わせて表示しています。富士山を拡大してみましょう。地形が3次元で表示されていることが分かります。</br>\n",
        "</br>\n"
      ]
    },
    {
      "cell_type": "markdown",
      "metadata": {
        "id": "m6mQzDwvyYPk"
      },
      "source": [
        "### **【表示例④ポリゴン（面）の立体表示とレイヤ同士の重ね合わせ】</br>**\n",
        "レイヤの表示形式を\"GeoJsonLayer\"に設定し、2種類のGeoJsonデータをレイヤとして重ね合わせます。\"GeoJsonLayer\"では、ポリゴンの属性情報を使用して高さを設定し、ポリゴンを立体表示することができます。"
      ]
    },
    {
      "cell_type": "code",
      "execution_count": null,
      "metadata": {
        "id": "o5NlzHHVjEyv"
      },
      "outputs": [],
      "source": [
        "# 環境省植生図データのURLを設定\n",
        "VEGETATION_DATA = (\"https://bootcamp24.s3.ap-northeast-1.amazonaws.com/biodic_vg67_shizendo.geojson\")\n",
        "df = gpd.read_file(VEGETATION_DATA)\n",
        "\n",
        "# 行政区域データのURLを設定\n",
        "CITY_AREA= (\"https://bootcamp24.s3.ap-northeast-1.amazonaws.com/selected_area.geojson\")\n",
        "\n",
        "# 市街地等を除く処理\n",
        "data_list = df[\"shokusei_shizendo_shizendo_25000\"] >= 2\n",
        "df_tmp = df[data_list]\n",
        "\n",
        "# ポリゴンの高さ・色の設定\n",
        "df_tmp[\"shokusei_shizendo_shizendo_25000_elev\"] = df_tmp[\"shokusei_shizendo_shizendo_25000\"]**2*2\n",
        "df_tmp[\"shokusei_shizendo_shizendo_25000_col\"] = (11-df_tmp[\"shokusei_shizendo_shizendo_25000\"])*25.5\n",
        "\n",
        "### 各種パラメータの設定\n",
        "# Layer(レイヤ)の設定\n",
        "# 植生図\n",
        "geojson1 = pdk.Layer(\n",
        "    \"GeoJsonLayer\", #レイヤの表示形式\n",
        "    df_tmp,\n",
        "    opacity=0.7,\n",
        "    stroked=False,\n",
        "    filled=True,\n",
        "    extruded=True,\n",
        "    wireframe=True,\n",
        "    get_elevation=\"shokusei_shizendo_shizendo_25000_elev\", #ポリゴンを立体表示する際の高さの設定\n",
        "    get_fill_color=\"[shokusei_shizendo_shizendo_25000_col, 255, shokusei_shizendo_shizendo_25000_col]\", #高さに応じた色の設定\n",
        "    get_line_color=[255, 255, 255],\n",
        ")\n",
        "\n",
        "# 行政区域\n",
        "geojson2 = pdk.Layer(\n",
        "    \"GeoJsonLayer\",\n",
        "    CITY_AREA,\n",
        "    opacity=0.4,\n",
        "    stroked=True,\n",
        "    filled=True,\n",
        "    extruded=True,\n",
        "    wireframe=True,\n",
        "    get_elevation=False,\n",
        "    get_fill_color=[255, 255, 255],\n",
        "    get_line_color=[255, 255, 255],\n",
        ")\n",
        "\n",
        "# ViewState(地図の表示状態)の設定\n",
        "view_state4 = pdk.ViewState(\n",
        "    longitude=139.310594,\n",
        "    latitude=35.671357,\n",
        "    zoom=11,\n",
        "    min_zoom=8,\n",
        "    max_zoom=15,\n",
        "    pitch=40.5,\n",
        "    bearing=0)\n",
        "\n",
        "# Deck(パラメータの統合)の設定\n",
        "r4 = pdk.Deck(layers=[geojson1,geojson2], initial_view_state=view_state4) #2種類のデータを重ね合わせる\n",
        "\n",
        "### htmlへのエクスポートと地図の表示\n",
        "r4.to_html(\"geojson_layer.html\")"
      ]
    },
    {
      "cell_type": "markdown",
      "metadata": {
        "id": "ZjS2EPqNYVtj"
      },
      "source": [
        "> 出典①: 1/25,000植生図「東京都」GISデータ（環境省生物多様性センター [http://gis.biodic.go.jp/webgis/index.html](http://gis.biodic.go.jp/webgis/index.html)）を使用し、Pacific Spatial Solutions 株式会社が作成・加工したもの</br>\n",
        "> 出典②: 「国土数値情報（行政区域データ）」（国土交通省） [https://nlftp.mlit.go.jp/ksj/gml/datalist/KsjTmplt-N03-2024.html](https://nlftp.mlit.go.jp/ksj/gml/datalist/KsjTmplt-N03-2024.html) をもとにPacific Spatial Solutions 株式会社が作成・加工したもの</br>\n",
        "\n",
        "</br>\n",
        "薄い灰色で表しているのは行政区域のポリゴンデータで、その上に環境省の植生図の自然度のデータを重ね合わせて表示しています。自然度が高いところほど濃い緑色でかつ、ポリゴンの高さが高く表示されており、直感的に自然度が高い地域が分かります。</br>\n",
        "</br>\n",
        "\n",
        "※PSSでは自然環境・生物多様性リスク評価、NTFD支援も行っています!</br>\n",
        "[https://pacificspatial.com/event/](https://pacificspatial.com/event/)\n",
        "</br>\n",
        "</br>\n"
      ]
    },
    {
      "cell_type": "markdown",
      "metadata": {
        "id": "mRSBXcR21tQx"
      },
      "source": [
        "### **【表示例➄色々なレイヤの重ね合わせ】**\n",
        "様々な地理空間情報を重ね合わせてデータとデータの関連性を考えることで、地域の課題を発見して問題解決に役立てることもできます。ここでは、地形、建物、浸水想定区域図を重ね合わせることで、どのような対策が立てられるかを考えてみましょう。"
      ]
    },
    {
      "cell_type": "code",
      "execution_count": null,
      "metadata": {
        "id": "TdsEaFpPS1Xh"
      },
      "outputs": [],
      "source": [
        "### データの読み込み\n",
        "#TerrainタイルデータのURLを設定\n",
        "TERRAIN_IMAGE = \"https://s3.amazonaws.com/elevation-tiles-prod/terrarium/{z}/{x}/{y}.png\" # 出典： AWS Open Data Terrain Tiles\n",
        "# Terrainタイルの表示方法を設定\n",
        "ELEVATION_DECODER = {\"rScaler\": 256, \"gScaler\": 1, \"bScaler\": 1 / 256, \"offset\": -32768}\n",
        "\n",
        "# 陰影起伏図データのURLを設定\n",
        "SURFACE_IMAGE1 = \"https://cyberjapandata.gsi.go.jp/xyz/hillshademap/{z}/{x}/{y}.png\" #出典：国土地理院 地理院タイル 陰影起伏図\n",
        "\n",
        "# 洪水浸水想定区域図データのURLを設定\n",
        "SURFACE_IMAGE2= \"https://disaportaldata.gsi.go.jp/raster/01_flood_l2_shinsuishin_pref_data/13/{z}/{x}/{y}.png\" #出典：ハザードマップポータルサイト 洪水浸水想定区域（想定最大規模）東京都\n",
        "\n",
        "#建物データのURLを設定\n",
        "#国土交通省PLATEAU (https://www.mlit.go.jp/plateau/) 「3D都市モデル(Project PLATEAU)」(国土交通省)(https://www.geospatial.jp/ckan/dataset/plateau)\n",
        "#をもとにジオメトリから各種統計データを算出しオンラインまたはGISソフトウェアで利用しやすいフォーマットに変換。Pacific Spatial Solutions株式会社 作成。\n",
        "BUILDING =  (\"https://bootcamp24.s3.ap-northeast-1.amazonaws.com/flateau_shinjyuku-ku_2023_tocho_area.geojson\")\n",
        "\n",
        "### 各種パラメータの設定\n",
        "# Layer(レイヤ)の設定\n",
        "\n",
        "#地形\n",
        "terrain_layer1 = pdk.Layer(\n",
        "    \"TerrainLayer\",\n",
        "    elevation_decoder=ELEVATION_DECODER,\n",
        "    texture=SURFACE_IMAGE1,          #地形データに重ねて表示するタイルデータ(ここでは地形)\n",
        "    elevation_data=TERRAIN_IMAGE     #地形データ\n",
        ")\n",
        "\n",
        "#浸水深\n",
        "terrain_layer2 = pdk.Layer(\n",
        "    \"TerrainLayer\",\n",
        "    elevation_decoder=ELEVATION_DECODER,\n",
        "    texture=SURFACE_IMAGE2,          #地形データに重ねて表示するタイルデータ(ここでは浸水深)\n",
        "    elevation_data=TERRAIN_IMAGE     #地形データ\n",
        ")\n",
        "\n",
        "#建物\n",
        "geojson = pdk.Layer(\n",
        "    \"GeoJsonLayer\",\n",
        "    BUILDING,\n",
        "    opacity=0.7,\n",
        "    stroked=False,\n",
        "    filled=True,\n",
        "    extruded=True,\n",
        "    wireframe=True,\n",
        "    get_elevation=\"properties.cal_zmax_m\",    #建物の高さを設定\n",
        "    get_fill_color=[255, 255, 255],\n",
        "    get_line_color=[255, 255, 255],\n",
        ")\n",
        "\n",
        "# ViewState(地図の表示状態)の設定\n",
        "view_state5 = pdk.ViewState(\n",
        "    longitude=139.691694,\n",
        "    latitude=35.689291,\n",
        "    zoom=14,\n",
        "    min_zoom=8,\n",
        "    max_zoom=18,\n",
        "    pitch=40.5,\n",
        "    bearing=0)\n",
        "\n",
        "# Deck(パラメータの統合)の設定\n",
        "r1 = pdk.Deck(layers=[terrain_layer1, geojson], initial_view_state=view_state5)\n",
        "\n",
        "### htmlへのエクスポートと地図の表示（背景図：陰影図）\n",
        "r1.to_html(\"multiple_layer_hillshade.html\")"
      ]
    },
    {
      "cell_type": "code",
      "execution_count": null,
      "metadata": {
        "id": "_uUZ0SjqCUag"
      },
      "outputs": [],
      "source": [
        "### htmlへのエクスポートと地図の表示（背景図：故葛井浸水想定区域図）\n",
        "r2 = pdk.Deck(layers=[terrain_layer2, geojson], initial_view_state=view_state5)\n",
        "r2.to_html(\"multiple_layer_flood.html\")"
      ]
    },
    {
      "cell_type": "markdown",
      "metadata": {
        "id": "1fC9pQU_1wFe"
      },
      "source": [
        "\n",
        "\n",
        ">出典①：Terrain Tiles was accessed from [https://registry.opendata.aws/terrain-tiles](https://registry.opendata.aws/terrain-tiles)</br>\n",
        ">出典②：国土地理院 地理院タイル 陰影起伏図 [https://maps.gsi.go.jp/development/ichiran.html](https://maps.gsi.go.jp/development/ichiran.html)</br>\n",
        ">出典③：ハザードマップポータルサイト 洪水浸水想定区域（想定最大規模）東京都 [https://disaportal.gsi.go.jp/hazardmapportal/hazardmap/copyright/opendata.html](https://disaportal.gsi.go.jp/hazardmapportal/hazardmap/copyright/opendata.html)</br>\n",
        ">出典④：国土交通省PLATEAU (https://www.mlit.go.jp/plateau/) 「3D都市モデル(Project PLATEAU)」(国土交通省)(https://www.geospatial.jp/ckan/dataset/plateau)\n",
        "をもとにジオメトリから各種統計データを算出しオンラインまたはGISソフトウェアで利用しやすいフォーマットに変換。Pacific Spatial Solutions株式会社 作成。</br>\n",
        "\n",
        "上の地図に表示している建物データは、PSSでPLATEAU(国土交通省)の建物データを2Dのフットプリントデータに変換したものです。建物ポリゴンの属性情報の、建物の高さのデータを使用して、建物を立体的に可視化しています。</br>\n",
        "\n",
        "二つの地図を見比べてみると、浸水想定区域図で浸水箇所になっているのは、地形が周辺よりも低くなっているところであることが良く分かります。3次元の地図を使えば、地形の特徴が把握しやすいため、避難経路や避難場所の設定といった、防災対策の検討に役立ちます。</br>\n",
        "</br>\n",
        "※PSSで変換した建物フットプリントのデータ（Flateau）は、[Source Cooperative](https://beta.source.coop/repositories/pacificspatial/flateau/description/?fbclid=IwZXh0bgNhZW0CMTEAAR3RoWxHBJuhVk1873wXvnOwb5viZG-Nhy1VzZz9ip_mbrYKseEWJmYMiGc_aem_AXWCvcSBHGCaVIs4pjhbouYDPboQWamWQoVsrviD976Vb-ujYi8YzLgtiUT8AaALQAGAjrANquT7T_UbzDjHjS6J)で公開していますので、ぜひご活用下さい。</br>\n",
        "\n",
        "\n",
        "\n",
        "※Flateauを使用した空間クエリの[実習ノートはこちら](https://github.com/pacificspatial/flateau/blob/main/notebook/sdsc_bootcamp_tokyo_202405.ipynb)"
      ]
    },
    {
      "cell_type": "markdown",
      "metadata": {
        "id": "zmFSbYbqG9ZD"
      },
      "source": [
        "### **pydeckを使った可視化のまとめ**</br>\n",
        "巨樹・巨木の密度が高い地域や建物の高さを可視化することで、自然度が高い地域や建物の高さを表現することができました。また色別標高図や陰影図を立体的に表示することで、地形をよりリアルに表現することができました。このように、色・形だけでなく、高さを加えた3次元の描画でデータを表示することで、より直感的にデータの持つ地理的な特徴をとらえることができます。またpydeckを使用すれば、2次元の表現であってもScreenGridLayerのような、様々な視覚化が可能です。</br>\n",
        "[pydeckのサイト](pydeck (https://deckgl.readthedocs.io/en/latest/#) )には、今回演習で表示した可視化形式以外にも、様々な形式の実例がコードと共に掲載されていますので、ぜひ他の形式での可視化にもチャレンジしてみてください。</br>\n",
        "</br>"
      ]
    },
    {
      "cell_type": "markdown",
      "metadata": {
        "id": "6CewJ62iuYs3"
      },
      "source": [
        "### **（参考）エクスポートしたhtmlファイルの活用**\n",
        "演習で、地図を表示する際に実行した下記コードで、htmlファイルが出力されます。\n",
        "```\n",
        "r.to_html(\"ファイル名.html\")\n",
        "```\n",
        "出力したデータは、Google Colabの左側のフォルダマークの「content」フォルダに格納されます。hexagon_layer.htmlを選択し、ファイル名の右側に表示される縦に並んだ3点をクリックして表示される「ダウンロード」からhexagon_layer.htmlをダウンロードしましょう。 </br>\n",
        "</br>\n",
        "ダウンロードしたhexagon_layer.htmlをダブルクリック（またはWebブラウザにドラッグアンドドロップ）して開くと、巨樹・巨木のデータが表示されています。\n",
        "</br>\n",
        "</br>\n",
        "次に、hexagon_layer.htmlを右クリックして、テキストエディタなどでソースコードを確認してみましょう。\n",
        "`<script>～</script>`部分がJavaScriptで記載されており、pydeckで設定したパラメータがJavaScriptのコードに変換されて記載されています。</br>\n",
        "</br>\n",
        "\n",
        "**htmlで地図がどのように設定されているか興味がある方は以下の内容を確認してみてください。</br>**\n",
        "</br>\n",
        "・`<body>～</body>`部分に記載されているid=\"deck-container\"により、地図が表示されます。\n",
        "\n",
        "```\n",
        "  <body>\n",
        "    <div id=\"deck-container\"> #ここに地図が入ります\n",
        "    </div>\n",
        "  </body>\n",
        "```\n",
        "</br>\n",
        "\n",
        "・`<style>～</style>`に表示されているdeck-containerのパラメータを編集・保存して再度開いてみましょう。</br>\n",
        "\n",
        "（編集前）\n",
        "\n",
        "```\n",
        "#deck-container {\n",
        "  width: 100vw;  #地図の横幅を半分にしてみましょう\n",
        "  height: 100vh; #地図の高さを半分にしてみましょう\n",
        "}\n",
        "```\n",
        "（編集後） </br>\n",
        "\n",
        "```\n",
        "#deck-container {\n",
        "  width: 50vw;  \n",
        "  height: 50vh;\n",
        "}\n",
        "```\n",
        "地図の表示サイズが1/4になります。</br>\n",
        "</br>\n",
        "\n",
        "・`<body>～</body>`に地図の説明等を記載すれば、説明付きの地図にすることも可能です。\n",
        "\n",
        "（編集前）\n",
        "```\n",
        "  <body>\n",
        "    <div id=\"deck-container\"> #ここに地図が入ります\n",
        "    </div>\n",
        "  </body>\n",
        "```\n",
        "（編集後） </br>\n",
        "\n",
        "```\n",
        "  <body>\n",
        "  　<div>環境省巨樹・巨木調査</div>\n",
        "    <div id=\"deck-container\"> #ここに地図が入ります\n",
        "    </div>\n",
        "    <div>出典：巨樹・巨木林調査(第6回) 全国分のGISデータ(環境省生物多様性センター:http://gis.biodic.go.jp/webgis/index.html)を使用し、 Pacific Spatial Solutions 株式会社が作成・加工したもの</div>\n",
        "  </body>\n",
        "```\n",
        "地図の説明と出典が追加されます。\n",
        "</br>\n",
        "</br>"
      ]
    },
    {
      "cell_type": "markdown",
      "metadata": {
        "id": "pFp9mq56A3Sa"
      },
      "source": [
        "# **3．deck.glと関連するその他のライブラリ**</br>\n",
        "### **kepker.gl<br>**\n",
        "https://kepler.gl<br>\n",
        "GUIで操作できるため、スクリプトを書き慣れていない方でも簡単に操作することができます。</br>\n",
        "</br>\n",
        "使用例：</br>\n",
        "①下記データをダウンロード</br>\n",
        "[https://bootcamp24.s3.ap-northeast-1.amazonaws.com/setaisu.csv](https://bootcamp24.s3.ap-northeast-1.amazonaws.com/setaisu.csv) </br>\n",
        "出典：2020年国勢調査3次メッシュ（政府統計の総合窓口(e-Stat [https://www.e-stat.go.jp/](https://www.e-stat.go.jp/)） を使用し、Pacific Spatial Solutions 株式会社が作成・加工したもの</br>\n",
        "②下記で表示される画面に①のファイルをドラッグアンドドロップして表示を設定 </br>\n",
        "https://kepler.gl/demo</br>\n",
        "</br>\n",
        "下記の説明に従って設定を行えば、Jupyter Notebookでkepler.glを使用することも可能です。</br>\n",
        "https://docs.kepler.gl/docs/keplergl-jupyter</br>\n",
        "</br>\n",
        "\n",
        "### **lonboard<br>**\n",
        "https://developmentseed.org/lonboard/latest/</br>\n",
        "Jupyterで高速かつインタラクティブにベクターデータを可視化するためのPythonライブラリです。GeoArrowやGeoParquetなどの最先端技術とGPUベースのマップレンダリングを組み合わせて構築されており、大規模な地理空間データセットが可視化できます。</br>\n",
        "</br>\n",
        "### **CARTO+deck.gl**</br>\n",
        "CARTOのドキュメント: https://docs.carto.com/carto-for-developers/carto-for-deck.gl</br>\n",
        "deck.glのドキュメント: https://deck.gl/docs/api-reference/carto/overview</br>\n",
        "\n",
        "*   CARTOのデータ連携方法の詳細は[こちらのドキュメント](https://docs.carto.com/getting-started/quickstart-guides/connecting-to-your-data)をご参照下さい。ウェブインターフェイス上でユーザが指定したパラメータを基に、CARTO上でクラウド上の巨大なデータベースから必要なデータだけをSQLで取得し、deck.glで表示することが可能です。</br>\n",
        "*   deck.glのver9との統合により、WebGL2にも対応できるようになり、より高いパフォーマンスの描画が実現しました。またTypescriptも使用できるようになりました。</br>\n",
        "【参考】[関連記事](https://carto.com/blog/announcing-deck-gl-v9-webgpu-ready-with-typescript-support?utm_content=287507357&utm_medium=social&utm_source=linkedin&hss_channel=lcp-5084329)\n",
        "\n",
        "</br>\n",
        "\n",
        "下記のサイトではCARTOとdeck.glの様々な連携方法の例がスクリプトとともに公開されています。</br>\n",
        "https://github.com/CartoDB/deck.gl-examples/</br>\n",
        "</br>\n",
        "例えば下記の鉄道事故のデータの表示例を見てみましょう。</br>\n",
        "※Google Chromeで実行してください。</br>\n",
        "https://github.com/CartoDB/deck.gl-examples/tree/master/query-accidents</br>\n",
        "「Open in StackBlitz」で開けば、必要な環境設定が自動的に行われます。「Choose a year to filter accidents」のドロップダウンリストから年を選ぶと、地図に表示されているデータが変更されるのが分かります。index.tsの下記コードで、ユーザが選択した年のデータをCARTOからSQLで取得しているのが分かります。</br>\n",
        "\n",
        "```\n",
        "  const accidentsByState = vectorQuerySource({\n",
        "    ...cartoConfig,\n",
        "    sqlQuery: `\n",
        "      SELECT\n",
        "        polygons.code_hasc as polygonid, any_value(polygons.geom) as geom,any_value(name) as state_name,\n",
        "        count(points.year) count\n",
        "      FROM \\`carto-demo-data.demo_tables.usa_states_boundaries\\` as polygons\n",
        "      LEFT JOIN \\`carto-demo-data.demo_tables.riskanalysis_railroad_accidents\\` as points\n",
        "        ON  ST_INTERSECTS(polygons.geom, points.geom) AND year=@selectedYear\n",
        "      GROUP BY polygons.code_hasc\n",
        "    `,\n",
        "    queryParameters: {'selectedYear' : selectedYear},\n",
        "  });\n",
        "\n",
        "  const accidents = vectorQuerySource({\n",
        "    ...cartoConfig,\n",
        "    sqlQuery: 'SELECT * FROM carto-demo-data.demo_tables.riskanalysis_railroad_accidents WHERE year = @selectedYear',\n",
        "    queryParameters: {'selectedYear' : selectedYear},\n",
        "  });\n",
        "```\n",
        "\n",
        "他にも、下記は注目すべき機能です。\n",
        "*   バウンダリー</br>\n",
        "\n",
        "    境界を表すポリゴンデータ（行政区域等）の属性値の集計を効率的に行うことが可能です。</br>\n",
        "【参考】[関連記事](https://docs.carto.com/carto-for-developers/guides/use-boundaries-in-your-application)</br>\n",
        "【参考】deckgl+CARTOのコード: https://github.com/CartoDB/deck.gl-examples/tree/master/boundaries</br>\n",
        "*   ラスターデータ</br>\n",
        "ラスターデータもCARTOから取得して可視化することができます。</br>\n",
        "【参考】deckgl+CARTOのコード: https://github.com/CartoDB/deck.gl-examples/tree/master/raster-temperature</br>"
      ]
    },
    {
      "cell_type": "markdown",
      "source": [
        "**CARTOとdeck.glの連携についてさらに詳しく学びたい方は下記の動画がおすすめです。**"
      ],
      "metadata": {
        "id": "LHGjAJk-p0Ip"
      }
    },
    {
      "cell_type": "code",
      "execution_count": null,
      "metadata": {
        "colab": {
          "base_uri": "https://localhost:8080/",
          "height": 522
        },
        "id": "DS4mbL4hUmOP",
        "outputId": "ca853685-e183-4379-d990-85731210ca7e"
      },
      "outputs": [
        {
          "output_type": "execute_result",
          "data": {
            "text/plain": [
              "<IPython.lib.display.YouTubeVideo at 0x7b094dea9b40>"
            ],
            "text/html": [
              "\n",
              "        <iframe\n",
              "            width=\"700\"\n",
              "            height=\"500\"\n",
              "            src=\"https://www.youtube.com/embed/r1AH0DxqmT8\"\n",
              "            frameborder=\"0\"\n",
              "            allowfullscreen\n",
              "            \n",
              "        ></iframe>\n",
              "        "
            ],
            "image/jpeg": "[encoded data removed]"
          },
          "metadata": {},
          "execution_count": 9
        }
      ],
      "source": [
        "#@title Teachable machine\n",
        "from IPython.display import YouTubeVideo\n",
        "YouTubeVideo('r1AH0DxqmT8', width=700, height=500)"
      ]
    }
  ],
  "metadata": {
    "colab": {
      "gpuType": "T4",
      "provenance": []
    },
    "kernelspec": {
      "display_name": "Python 3",
      "name": "python3"
    },
    "language_info": {
      "name": "python"
    }
  },
  "nbformat": 4,
  "nbformat_minor": 0
}
